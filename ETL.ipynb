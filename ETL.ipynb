{
 "cells": [
  {
   "cell_type": "code",
   "execution_count": null,
   "metadata": {},
   "outputs": [],
   "source": [
    "# Author María Martínez\n",
    "# Creation Date 051023 \n",
    "\n",
    "import pandas as pd\n",
    "import numpy as np\n",
    "%matplotlib inline\n",
    "\n",
    "sns.set()\n",
    "import warnings\n",
    "warnings.filterwarnings('ignore')"
   ]
  },
  {
   "cell_type": "code",
   "execution_count": 76,
   "metadata": {},
   "outputs": [
    {
     "data": {
      "text/html": [
       "<div>\n",
       "<style scoped>\n",
       "    .dataframe tbody tr th:only-of-type {\n",
       "        vertical-align: middle;\n",
       "    }\n",
       "\n",
       "    .dataframe tbody tr th {\n",
       "        vertical-align: top;\n",
       "    }\n",
       "\n",
       "    .dataframe thead th {\n",
       "        text-align: right;\n",
       "    }\n",
       "</style>\n",
       "<table border=\"1\" class=\"dataframe\">\n",
       "  <thead>\n",
       "    <tr style=\"text-align: right;\">\n",
       "      <th></th>\n",
       "      <th>fecha</th>\n",
       "      <th>HORA declarada</th>\n",
       "      <th>Ruta</th>\n",
       "      <th>OperadOR</th>\n",
       "      <th>flight_no</th>\n",
       "      <th>route</th>\n",
       "      <th>ac_type</th>\n",
       "      <th>registration</th>\n",
       "      <th>cn_ln</th>\n",
       "      <th>all_aboard</th>\n",
       "      <th>PASAJEROS A BORDO</th>\n",
       "      <th>crew_aboard</th>\n",
       "      <th>cantidad de fallecidos</th>\n",
       "      <th>passenger_fatalities</th>\n",
       "      <th>crew_fatalities</th>\n",
       "      <th>ground</th>\n",
       "      <th>summary</th>\n",
       "    </tr>\n",
       "  </thead>\n",
       "  <tbody>\n",
       "    <tr>\n",
       "      <th>0</th>\n",
       "      <td>September 17, 1908</td>\n",
       "      <td>1718</td>\n",
       "      <td>Fort Myer, Virginia</td>\n",
       "      <td>Military - U.S. Army</td>\n",
       "      <td>?</td>\n",
       "      <td>Demonstration</td>\n",
       "      <td>Wright Flyer III</td>\n",
       "      <td>?</td>\n",
       "      <td>1</td>\n",
       "      <td>2</td>\n",
       "      <td>1</td>\n",
       "      <td>1</td>\n",
       "      <td>1</td>\n",
       "      <td>1</td>\n",
       "      <td>0</td>\n",
       "      <td>0</td>\n",
       "      <td>During a demonstration flight, a U.S. Army fly...</td>\n",
       "    </tr>\n",
       "    <tr>\n",
       "      <th>1</th>\n",
       "      <td>September 07, 1909</td>\n",
       "      <td>?</td>\n",
       "      <td>Juvisy-sur-Orge, France</td>\n",
       "      <td>?</td>\n",
       "      <td>?</td>\n",
       "      <td>Air show</td>\n",
       "      <td>Wright Byplane</td>\n",
       "      <td>SC1</td>\n",
       "      <td>?</td>\n",
       "      <td>1</td>\n",
       "      <td>0</td>\n",
       "      <td>1</td>\n",
       "      <td>1</td>\n",
       "      <td>0</td>\n",
       "      <td>0</td>\n",
       "      <td>0</td>\n",
       "      <td>Eugene Lefebvre was the first pilot to ever be...</td>\n",
       "    </tr>\n",
       "    <tr>\n",
       "      <th>2</th>\n",
       "      <td>July 12, 1912</td>\n",
       "      <td>630</td>\n",
       "      <td>Atlantic City, New Jersey</td>\n",
       "      <td>Military - U.S. Navy</td>\n",
       "      <td>?</td>\n",
       "      <td>Test flight</td>\n",
       "      <td>Dirigible</td>\n",
       "      <td>?</td>\n",
       "      <td>?</td>\n",
       "      <td>5</td>\n",
       "      <td>0</td>\n",
       "      <td>5</td>\n",
       "      <td>5</td>\n",
       "      <td>0</td>\n",
       "      <td>5</td>\n",
       "      <td>0</td>\n",
       "      <td>First U.S. dirigible Akron exploded just offsh...</td>\n",
       "    </tr>\n",
       "    <tr>\n",
       "      <th>3</th>\n",
       "      <td>August 06, 1913</td>\n",
       "      <td>?</td>\n",
       "      <td>Victoria, British Columbia, Canada</td>\n",
       "      <td>Private</td>\n",
       "      <td>?</td>\n",
       "      <td>?</td>\n",
       "      <td>Curtiss seaplane</td>\n",
       "      <td>?</td>\n",
       "      <td>?</td>\n",
       "      <td>1</td>\n",
       "      <td>0</td>\n",
       "      <td>1</td>\n",
       "      <td>1</td>\n",
       "      <td>0</td>\n",
       "      <td>1</td>\n",
       "      <td>0</td>\n",
       "      <td>The first fatal airplane accident in Canada oc...</td>\n",
       "    </tr>\n",
       "    <tr>\n",
       "      <th>4</th>\n",
       "      <td>September 09, 1913</td>\n",
       "      <td>1830</td>\n",
       "      <td>Over the North Sea</td>\n",
       "      <td>Military - German Navy</td>\n",
       "      <td>?</td>\n",
       "      <td>?</td>\n",
       "      <td>Zeppelin L-1 (airship)</td>\n",
       "      <td>?</td>\n",
       "      <td>?</td>\n",
       "      <td>20</td>\n",
       "      <td>?</td>\n",
       "      <td>?</td>\n",
       "      <td>14</td>\n",
       "      <td>?</td>\n",
       "      <td>?</td>\n",
       "      <td>0</td>\n",
       "      <td>The airship flew into a thunderstorm and encou...</td>\n",
       "    </tr>\n",
       "  </tbody>\n",
       "</table>\n",
       "</div>"
      ],
      "text/plain": [
       "                fecha HORA declarada                                Ruta   \n",
       "0  September 17, 1908           1718                 Fort Myer, Virginia  \\\n",
       "1  September 07, 1909              ?             Juvisy-sur-Orge, France   \n",
       "2       July 12, 1912            630           Atlantic City, New Jersey   \n",
       "3     August 06, 1913              ?  Victoria, British Columbia, Canada   \n",
       "4  September 09, 1913           1830                  Over the North Sea   \n",
       "\n",
       "                 OperadOR flight_no          route                 ac_type   \n",
       "0    Military - U.S. Army         ?  Demonstration        Wright Flyer III  \\\n",
       "1                       ?         ?       Air show          Wright Byplane   \n",
       "2    Military - U.S. Navy         ?    Test flight               Dirigible   \n",
       "3                 Private         ?              ?        Curtiss seaplane   \n",
       "4  Military - German Navy         ?              ?  Zeppelin L-1 (airship)   \n",
       "\n",
       "  registration cn_ln all_aboard PASAJEROS A BORDO crew_aboard   \n",
       "0            ?     1          2                 1           1  \\\n",
       "1          SC1     ?          1                 0           1   \n",
       "2            ?     ?          5                 0           5   \n",
       "3            ?     ?          1                 0           1   \n",
       "4            ?     ?         20                 ?           ?   \n",
       "\n",
       "  cantidad de fallecidos passenger_fatalities crew_fatalities ground   \n",
       "0                      1                    1               0      0  \\\n",
       "1                      1                    0               0      0   \n",
       "2                      5                    0               5      0   \n",
       "3                      1                    0               1      0   \n",
       "4                     14                    ?               ?      0   \n",
       "\n",
       "                                             summary  \n",
       "0  During a demonstration flight, a U.S. Army fly...  \n",
       "1  Eugene Lefebvre was the first pilot to ever be...  \n",
       "2  First U.S. dirigible Akron exploded just offsh...  \n",
       "3  The first fatal airplane accident in Canada oc...  \n",
       "4  The airship flew into a thunderstorm and encou...  "
      ]
     },
     "execution_count": 76,
     "metadata": {},
     "output_type": "execute_result"
    }
   ],
   "source": [
    "# Read the dataset\n",
    "df=pd.read_csv('Dataset/AccidentesAviones.csv')\n",
    "df.head()"
   ]
  },
  {
   "cell_type": "code",
   "execution_count": null,
   "metadata": {},
   "outputs": [],
   "source": [
    "# Some columns have values '?', so they are null values\n",
    "df.info()"
   ]
  },
  {
   "cell_type": "code",
   "execution_count": null,
   "metadata": {},
   "outputs": [],
   "source": [
    "# First I'm going to dois replace all values \"?\" by NaN \n",
    "# Then I'm going to delete columns that do not work in this context\n",
    "# flight_no, registratio, cn_ln (It seems is a serie number) and summary, that is an event description.\n",
    "df.replace('?',np.nan,inplace=True)\n",
    "df.drop(columns=['flight_no','registration','cn_ln','summary'],inplace=True)"
   ]
  },
  {
   "cell_type": "code",
   "execution_count": null,
   "metadata": {},
   "outputs": [],
   "source": [
    "# Check again the null values\n",
    "df.isna().sum()"
   ]
  },
  {
   "cell_type": "code",
   "execution_count": null,
   "metadata": {},
   "outputs": [],
   "source": [
    "# Delete null value of cantidad de fallecidos, 'cause I am interested in doing an analysis of the mortality rate\n",
    "# and if there are records that do not have that data, they will not be very useful.\n",
    "df.dropna(subset='cantidad de fallecidos',inplace=True)\n",
    "df=df.reset_index(drop=True)"
   ]
  },
  {
   "cell_type": "code",
   "execution_count": null,
   "metadata": {},
   "outputs": [],
   "source": [
    "# Standardize column names\n",
    "df.columns= df.columns.str.lower()"
   ]
  },
  {
   "cell_type": "code",
   "execution_count": null,
   "metadata": {},
   "outputs": [],
   "source": [
    "# I have a date field that doesn't really help in the analysis because it is a string,\n",
    "# so I am going to change the format and leave it in YYYY-MM-DD format.\n",
    "# First, I'm going to separate the data by spaces and assign it to new columns in the dataframe.\n",
    "df[['mes','dia','anio']]=df['fecha'].str.split(' ', expand=True)"
   ]
  },
  {
   "cell_type": "code",
   "execution_count": null,
   "metadata": {},
   "outputs": [],
   "source": [
    "# Now, I have to change the format of the days left with a comma at the end\n",
    "# For this I'm going to replace the comma with an empty value\n",
    "df['dia']=df.dia.str.replace(',','')"
   ]
  },
  {
   "cell_type": "code",
   "execution_count": null,
   "metadata": {},
   "outputs": [],
   "source": [
    "# In the month column I am going to replace the month with the representative number for each month\n",
    "df['mes']=pd.to_datetime(df['mes'], format='%B').dt.month"
   ]
  },
  {
   "cell_type": "code",
   "execution_count": null,
   "metadata": {},
   "outputs": [],
   "source": [
    "# I will assign the combination of the year, month and day columns to the date column and remove these columns,\n",
    "# leaving only the date column.\n",
    "df['fecha']=df['anio'].astype(str)+'-'+df['mes'].astype(str)+'-'+df['dia'].astype(str)\n",
    "df.drop(columns=['mes','dia','anio'],inplace=True)"
   ]
  },
  {
   "cell_type": "code",
   "execution_count": null,
   "metadata": {},
   "outputs": [],
   "source": [
    "df.head()"
   ]
  },
  {
   "cell_type": "code",
   "execution_count": null,
   "metadata": {},
   "outputs": [],
   "source": [
    "df.isna().sum()"
   ]
  },
  {
   "cell_type": "code",
   "execution_count": null,
   "metadata": {},
   "outputs": [],
   "source": [
    "# For my analysis I would like to review only the flights that had people on board, \n",
    "# so I am going to eliminate the records that do not have them because I think there is inconsistent information.\n",
    "df[df['all_aboard']=='0']"
   ]
  },
  {
   "cell_type": "code",
   "execution_count": null,
   "metadata": {},
   "outputs": [],
   "source": [
    "df['all_aboard'].loc[30]='1'\n",
    "df['all_aboard'].loc[119]='2'\n",
    "df['cantidad de fallecidos'].loc[119]='2'\n",
    "df['all_aboard'].loc[1114]='2'\n",
    "df['cantidad de fallecidos'].loc[1114]='2'"
   ]
  },
  {
   "cell_type": "code",
   "execution_count": null,
   "metadata": {},
   "outputs": [],
   "source": [
    "df=df[df['all_aboard']!='0']\n",
    "df=df.reset_index(drop=True)"
   ]
  },
  {
   "cell_type": "code",
   "execution_count": null,
   "metadata": {},
   "outputs": [],
   "source": [
    "df['route']\n",
    "# The last thing I see are names of cities and at the beginning the type of flight, \n",
    "# I am going to eliminate this column because it seems inconsistent to me\n",
    "df.drop(columns='route',inplace=True)"
   ]
  },
  {
   "cell_type": "code",
   "execution_count": null,
   "metadata": {},
   "outputs": [],
   "source": [
    "df.head()"
   ]
  },
  {
   "cell_type": "code",
   "execution_count": null,
   "metadata": {},
   "outputs": [],
   "source": [
    "# I see that the hora declarada column does not have a uniform format either,\n",
    "# I am going to normalize it by putting all the values as 4 consecutive numbers.\n",
    "# Since I know that the data is in string format, I am going to filter the data \n",
    "# by those that have more than 4 characters and use replace to replace the characters I don't want \n",
    "# with empty ones.\n",
    "df[df['hora declarada'].str.len()>4]"
   ]
  },
  {
   "cell_type": "code",
   "execution_count": null,
   "metadata": {},
   "outputs": [],
   "source": [
    "df['hora declarada']=df['hora declarada'].str.replace(':','')\n",
    "df['hora declarada']=df['hora declarada'].str.replace('c','')"
   ]
  },
  {
   "cell_type": "code",
   "execution_count": null,
   "metadata": {},
   "outputs": [],
   "source": [
    "# This data from which I removed the c has a space before the time, I will remove it with the strip function.\n",
    "df['hora declarada']=df['hora declarada'].str.strip()"
   ]
  },
  {
   "cell_type": "code",
   "execution_count": null,
   "metadata": {},
   "outputs": [],
   "source": [
    "# I check again what data I have left to normalize\n",
    "df[df['hora declarada'].str.len()>4]"
   ]
  },
  {
   "cell_type": "code",
   "execution_count": null,
   "metadata": {},
   "outputs": [],
   "source": [
    "df['hora declarada']=df['hora declarada'].str.replace('Z','')\n",
    "df['hora declarada']=df['hora declarada'].str.replace(';','')"
   ]
  },
  {
   "cell_type": "code",
   "execution_count": null,
   "metadata": {},
   "outputs": [],
   "source": [
    "# I check that there is no data left to normalize and count again how many null values there are to take into account when converting to time format \n",
    "# so that no more null values appear\n",
    "df[df['hora declarada'].str.len()>4]"
   ]
  },
  {
   "cell_type": "code",
   "execution_count": null,
   "metadata": {},
   "outputs": [],
   "source": [
    "df['hora declarada'].isna().sum()"
   ]
  },
  {
   "cell_type": "code",
   "execution_count": null,
   "metadata": {},
   "outputs": [],
   "source": [
    "# Now, to compare values, I am going to put the time with the time format in a new auxiliary column\n",
    "# in case more NaN values appear when I convert\n",
    "# df['hora'] = pd.to_datetime(df['hora declarada'], format='%H%M').dt.time\n",
    "df.head()"
   ]
  },
  {
   "cell_type": "code",
   "execution_count": null,
   "metadata": {},
   "outputs": [],
   "source": [
    "df.isna().sum()"
   ]
  },
  {
   "cell_type": "code",
   "execution_count": null,
   "metadata": {},
   "outputs": [],
   "source": [
    "# I also can't calculate the mortality rate if I don't know how many people were on board in total, \n",
    "# I'm going to check the records in this column that appear as NaN\n",
    "df[df.all_aboard.isna()]"
   ]
  },
  {
   "cell_type": "code",
   "execution_count": null,
   "metadata": {},
   "outputs": [],
   "source": [
    "# I really have no way of knowing how many total people were on board so I'm going to delete these records\n",
    "df.dropna(subset='all_aboard',inplace=True)\n",
    "df=df.reset_index(drop=True)\n",
    "df['fecha']=pd.to_datetime(df['fecha'],format='%Y-%m-%d',errors='coerce')"
   ]
  },
  {
   "cell_type": "code",
   "execution_count": null,
   "metadata": {},
   "outputs": [],
   "source": [
    "df.info()"
   ]
  },
  {
   "cell_type": "code",
   "execution_count": null,
   "metadata": {},
   "outputs": [],
   "source": [
    "# I'm going to rename the columns so that they are all in Spanish.  \n",
    "df.rename(columns={'ac_type':'tipo_aeronave', 'hora declarada':'hora_declarada','all_aboard':'total_abordo',\n",
    "                   'pasajeros a bordo':'pasajeros_abordo','crew_aboard': 'tripulacion_abordo', 'cantidad de fallecidos':'total_fatalidades',\n",
    "                   'passenger_fatalities':'pasajeros_fatalidades', 'crew_fatalities':'tripulacion_fatalidades', 'ground':'tierra_fatalidades'\n",
    "}, inplace=True)"
   ]
  },
  {
   "cell_type": "code",
   "execution_count": null,
   "metadata": {},
   "outputs": [],
   "source": [
    "df.isna().sum()"
   ]
  },
  {
   "cell_type": "code",
   "execution_count": null,
   "metadata": {},
   "outputs": [],
   "source": [
    "df['pasajeros_abordo'].loc[df['pasajeros_abordo'].isna() & df['tripulacion_abordo'].notna()]=df['pasajeros_abordo'].loc[df['pasajeros_abordo'].isna() & df['tripulacion_abordo'].notna()].fillna(0)\n",
    "df['tripulacion_abordo'].loc[df['pasajeros_abordo'].notna() & df['tripulacion_abordo'].isna()]=df['tripulacion_abordo'].loc[df['pasajeros_abordo'].notna() & df['tripulacion_abordo'].isna()].fillna(0)\n",
    "df['pasajeros_fatalidades'].loc[df['pasajeros_fatalidades'].isna() & df['tripulacion_fatalidades'].notna()]=df['pasajeros_fatalidades'].loc[df['pasajeros_fatalidades'].isna() & df['tripulacion_fatalidades'].notna()].fillna(df['total_fatalidades'].astype(float)-df['tripulacion_fatalidades'].astype(float))\n",
    "df['tripulacion_fatalidades'].loc[df['pasajeros_fatalidades'].notna() & df['tripulacion_fatalidades'].isna()]=df['tripulacion_fatalidades'].loc[df['pasajeros_fatalidades'].notna() & df['tripulacion_fatalidades'].isna()].fillna(df['total_fatalidades'].astype(float)-df['pasajeros_fatalidades'].astype(float))"
   ]
  },
  {
   "cell_type": "code",
   "execution_count": null,
   "metadata": {},
   "outputs": [],
   "source": [
    "df.to_csv('AccidentesAereos_ETL.csv')\n"
   ]
  }
 ],
 "metadata": {
  "kernelspec": {
   "display_name": "Python 3",
   "language": "python",
   "name": "python3"
  },
  "language_info": {
   "codemirror_mode": {
    "name": "ipython",
    "version": 3
   },
   "file_extension": ".py",
   "mimetype": "text/x-python",
   "name": "python",
   "nbconvert_exporter": "python",
   "pygments_lexer": "ipython3",
   "version": "3.11.3"
  },
  "orig_nbformat": 4
 },
 "nbformat": 4,
 "nbformat_minor": 2
}
